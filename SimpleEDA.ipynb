{
 "cells": [
  {
   "cell_type": "code",
   "execution_count": 1,
   "metadata": {},
   "outputs": [],
   "source": [
    "import pandas as pd\n",
    "import matplotlib.pyplot as plt\n",
    "import importlib\n",
    "import util_calculation\n",
    "import util_diagnostic\n",
    "import util_modelling\n",
    "import util_preprocessing\n",
    "import util_visualization\n",
    "\n",
    "def reload():\n",
    "  importlib.reload(util_calculation)\n",
    "  importlib.reload(util_diagnostic)\n",
    "  importlib.reload(util_preprocessing)\n",
    "  importlib.reload(util_modelling)\n",
    "  importlib.reload(util_visualization)\n"
   ]
  }
 ],
 "metadata": {
  "kernelspec": {
   "display_name": "Python 3.9.12 ('DataSiens')",
   "language": "python",
   "name": "python3"
  },
  "language_info": {
   "codemirror_mode": {
    "name": "ipython",
    "version": 3
   },
   "file_extension": ".py",
   "mimetype": "text/x-python",
   "name": "python",
   "nbconvert_exporter": "python",
   "pygments_lexer": "ipython3",
   "version": "3.9.12"
  },
  "orig_nbformat": 4,
  "vscode": {
   "interpreter": {
    "hash": "8a28ba3cb4290f43887b639e4d902048abae311a128a19465268895f960a8f8d"
   }
  }
 },
 "nbformat": 4,
 "nbformat_minor": 2
}
